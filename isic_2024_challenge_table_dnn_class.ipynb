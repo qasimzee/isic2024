{
  "cells": [
    {
      "cell_type": "markdown",
      "metadata": {
        "id": "view-in-github",
        "colab_type": "text"
      },
      "source": [
        "<a href=\"https://colab.research.google.com/github/qasimzee/isic2024/blob/main/isic_2024_challenge_table_dnn_class.ipynb\" target=\"_parent\"><img src=\"https://colab.research.google.com/assets/colab-badge.svg\" alt=\"Open In Colab\"/></a>"
      ]
    },
    {
      "cell_type": "code",
      "execution_count": 8,
      "metadata": {
        "colab": {
          "base_uri": "https://localhost:8080/"
        },
        "id": "boIzrzVzi15i",
        "outputId": "06f09cb6-4dc6-47a3-eb9b-abf2808558ca"
      },
      "outputs": [
        {
          "output_type": "stream",
          "name": "stdout",
          "text": [
            "Requirement already satisfied: scikit-learn==1.2.2 in /usr/local/lib/python3.10/dist-packages (1.2.2)\n",
            "Requirement already satisfied: numpy>=1.17.3 in /usr/local/lib/python3.10/dist-packages (from scikit-learn==1.2.2) (1.26.4)\n",
            "Requirement already satisfied: scipy>=1.3.2 in /usr/local/lib/python3.10/dist-packages (from scikit-learn==1.2.2) (1.13.1)\n",
            "Requirement already satisfied: joblib>=1.1.1 in /usr/local/lib/python3.10/dist-packages (from scikit-learn==1.2.2) (1.4.2)\n",
            "Requirement already satisfied: threadpoolctl>=2.0.0 in /usr/local/lib/python3.10/dist-packages (from scikit-learn==1.2.2) (3.5.0)\n",
            "Requirement already satisfied: numpy==1.26.4 in /usr/local/lib/python3.10/dist-packages (1.26.4)\n"
          ]
        }
      ],
      "source": [
        "!pip install scikit-learn==1.2.2\n",
        "!pip install numpy==1.26.4\n",
        "\n",
        "import pandas as pd\n",
        "import numpy as np\n",
        "from sklearn.model_selection import train_test_split\n",
        "from sklearn.preprocessing import StandardScaler, OneHotEncoder\n",
        "from sklearn.compose import ColumnTransformer\n",
        "from sklearn.pipeline import Pipeline\n",
        "from sklearn.linear_model import LogisticRegression\n",
        "from sklearn.ensemble import VotingClassifier\n",
        "from sklearn.neighbors import KNeighborsClassifier\n",
        "from sklearn.ensemble import RandomForestClassifier\n",
        "from sklearn.svm import SVC\n",
        "import xgboost as xgb\n"
      ]
    },
    {
      "cell_type": "code",
      "execution_count": 9,
      "metadata": {
        "colab": {
          "base_uri": "https://localhost:8080/"
        },
        "id": "KMzRH1cApP19",
        "outputId": "8e48b508-c5f9-484f-956f-55d3e7de44c8"
      },
      "outputs": [
        {
          "output_type": "stream",
          "name": "stdout",
          "text": [
            "Drive already mounted at /content/drive; to attempt to forcibly remount, call drive.mount(\"/content/drive\", force_remount=True).\n"
          ]
        }
      ],
      "source": [
        "from google.colab import drive\n",
        "drive.mount('/content/drive')"
      ]
    },
    {
      "cell_type": "code",
      "execution_count": 10,
      "metadata": {
        "colab": {
          "base_uri": "https://localhost:8080/"
        },
        "id": "txNWgMfBtyE1",
        "outputId": "993904fc-8a1a-48fa-eaa4-42f5a3c8d427"
      },
      "outputs": [
        {
          "output_type": "stream",
          "name": "stdout",
          "text": [
            "cnn.pkl\t\t\t sample_submission.csv\ttest-image.hdf5\t\t  train-image.hdf5\n",
            "logistic_regression.pkl  scaler.pkl\t\ttest-metadata.csv\t  train-metadata.csv\n",
            "random_forest_model.pkl  sequential_dnn.pkl\ttest-metadata.csv.gsheet  train-metadata-v1.csv\n"
          ]
        }
      ],
      "source": [
        "!ls \"/content/drive/MyDrive/kaggle/isic-2024-data\""
      ]
    },
    {
      "cell_type": "code",
      "execution_count": 11,
      "metadata": {
        "colab": {
          "base_uri": "https://localhost:8080/"
        },
        "id": "fHYT-spxqIcd",
        "outputId": "d84f6d17-c062-4d72-e8ed-6a8ef12cdf74"
      },
      "outputs": [
        {
          "output_type": "stream",
          "name": "stderr",
          "text": [
            "<ipython-input-11-6d834c4c6865>:2: DtypeWarning: Columns (51,52) have mixed types. Specify dtype option on import or set low_memory=False.\n",
            "  metadata_df = pd.read_csv(METADATA_FILE)\n"
          ]
        }
      ],
      "source": [
        "METADATA_FILE = \"/content/drive/MyDrive/kaggle/isic-2024-data/train-metadata.csv\"\n",
        "metadata_df = pd.read_csv(METADATA_FILE)\n"
      ]
    },
    {
      "cell_type": "code",
      "source": [
        "TESTDATA_FILE = \"/content/drive/MyDrive/kaggle/isic-2024-data/test-metadata.csv\"\n",
        "test_data_df = pd.read_csv(TESTDATA_FILE)\n",
        "test_data_df"
      ],
      "metadata": {
        "id": "erP5NP4FmJ8d",
        "outputId": "4aac9186-2630-4d91-c8f1-1202d7494d08",
        "colab": {
          "base_uri": "https://localhost:8080/",
          "height": 314
        }
      },
      "execution_count": 12,
      "outputs": [
        {
          "output_type": "execute_result",
          "data": {
            "text/plain": [
              "        isic_id  patient_id  target  age_approx     sex anatom_site_general  \\\n",
              "0  ISIC_0015657  IP_6074337       1          45    male     posterior torso   \n",
              "1  ISIC_0015729  IP_1664139       0          35  female     lower extremity   \n",
              "2  ISIC_0015740  IP_7142616       1          65    male     posterior torso   \n",
              "\n",
              "   clin_size_long_diam_mm          image_type tbp_tile_type  tbp_lv_A  ...  \\\n",
              "0                    2.70  TBP tile: close-up        3D: XP  22.80433  ...   \n",
              "1                    2.52  TBP tile: close-up        3D: XP  16.64867  ...   \n",
              "2                    3.16  TBP tile: close-up        3D: XP  24.25384  ...   \n",
              "\n",
              "   tbp_lv_radial_color_std_max  tbp_lv_stdL  tbp_lv_stdLExt  \\\n",
              "0                     0.304827     1.281532        2.299935   \n",
              "1                     0.000000     1.271940        2.011223   \n",
              "2                     0.230742     1.080308        2.705857   \n",
              "\n",
              "   tbp_lv_symm_2axis  tbp_lv_symm_2axis_angle   tbp_lv_x     tbp_lv_y  \\\n",
              "0           0.479339                       20 -155.06510  1511.222000   \n",
              "1           0.426230                       25 -112.36924   629.535889   \n",
              "2           0.366071                      110  -84.29282  1303.978000   \n",
              "\n",
              "     tbp_lv_z                                        attribution  \\\n",
              "0  113.980100             Memorial Sloan Kettering Cancer Center   \n",
              "1  -15.019287  Frazer Institute, The University of Queensland...   \n",
              "2  -28.576050                                        FNQH Cairns   \n",
              "\n",
              "   copyright_license  \n",
              "0              CC-BY  \n",
              "1              CC-BY  \n",
              "2              CC-BY  \n",
              "\n",
              "[3 rows x 45 columns]"
            ],
            "text/html": [
              "\n",
              "  <div id=\"df-b85f2d14-674f-43e7-9c03-348dbfddc206\" class=\"colab-df-container\">\n",
              "    <div>\n",
              "<style scoped>\n",
              "    .dataframe tbody tr th:only-of-type {\n",
              "        vertical-align: middle;\n",
              "    }\n",
              "\n",
              "    .dataframe tbody tr th {\n",
              "        vertical-align: top;\n",
              "    }\n",
              "\n",
              "    .dataframe thead th {\n",
              "        text-align: right;\n",
              "    }\n",
              "</style>\n",
              "<table border=\"1\" class=\"dataframe\">\n",
              "  <thead>\n",
              "    <tr style=\"text-align: right;\">\n",
              "      <th></th>\n",
              "      <th>isic_id</th>\n",
              "      <th>patient_id</th>\n",
              "      <th>target</th>\n",
              "      <th>age_approx</th>\n",
              "      <th>sex</th>\n",
              "      <th>anatom_site_general</th>\n",
              "      <th>clin_size_long_diam_mm</th>\n",
              "      <th>image_type</th>\n",
              "      <th>tbp_tile_type</th>\n",
              "      <th>tbp_lv_A</th>\n",
              "      <th>...</th>\n",
              "      <th>tbp_lv_radial_color_std_max</th>\n",
              "      <th>tbp_lv_stdL</th>\n",
              "      <th>tbp_lv_stdLExt</th>\n",
              "      <th>tbp_lv_symm_2axis</th>\n",
              "      <th>tbp_lv_symm_2axis_angle</th>\n",
              "      <th>tbp_lv_x</th>\n",
              "      <th>tbp_lv_y</th>\n",
              "      <th>tbp_lv_z</th>\n",
              "      <th>attribution</th>\n",
              "      <th>copyright_license</th>\n",
              "    </tr>\n",
              "  </thead>\n",
              "  <tbody>\n",
              "    <tr>\n",
              "      <th>0</th>\n",
              "      <td>ISIC_0015657</td>\n",
              "      <td>IP_6074337</td>\n",
              "      <td>1</td>\n",
              "      <td>45</td>\n",
              "      <td>male</td>\n",
              "      <td>posterior torso</td>\n",
              "      <td>2.70</td>\n",
              "      <td>TBP tile: close-up</td>\n",
              "      <td>3D: XP</td>\n",
              "      <td>22.80433</td>\n",
              "      <td>...</td>\n",
              "      <td>0.304827</td>\n",
              "      <td>1.281532</td>\n",
              "      <td>2.299935</td>\n",
              "      <td>0.479339</td>\n",
              "      <td>20</td>\n",
              "      <td>-155.06510</td>\n",
              "      <td>1511.222000</td>\n",
              "      <td>113.980100</td>\n",
              "      <td>Memorial Sloan Kettering Cancer Center</td>\n",
              "      <td>CC-BY</td>\n",
              "    </tr>\n",
              "    <tr>\n",
              "      <th>1</th>\n",
              "      <td>ISIC_0015729</td>\n",
              "      <td>IP_1664139</td>\n",
              "      <td>0</td>\n",
              "      <td>35</td>\n",
              "      <td>female</td>\n",
              "      <td>lower extremity</td>\n",
              "      <td>2.52</td>\n",
              "      <td>TBP tile: close-up</td>\n",
              "      <td>3D: XP</td>\n",
              "      <td>16.64867</td>\n",
              "      <td>...</td>\n",
              "      <td>0.000000</td>\n",
              "      <td>1.271940</td>\n",
              "      <td>2.011223</td>\n",
              "      <td>0.426230</td>\n",
              "      <td>25</td>\n",
              "      <td>-112.36924</td>\n",
              "      <td>629.535889</td>\n",
              "      <td>-15.019287</td>\n",
              "      <td>Frazer Institute, The University of Queensland...</td>\n",
              "      <td>CC-BY</td>\n",
              "    </tr>\n",
              "    <tr>\n",
              "      <th>2</th>\n",
              "      <td>ISIC_0015740</td>\n",
              "      <td>IP_7142616</td>\n",
              "      <td>1</td>\n",
              "      <td>65</td>\n",
              "      <td>male</td>\n",
              "      <td>posterior torso</td>\n",
              "      <td>3.16</td>\n",
              "      <td>TBP tile: close-up</td>\n",
              "      <td>3D: XP</td>\n",
              "      <td>24.25384</td>\n",
              "      <td>...</td>\n",
              "      <td>0.230742</td>\n",
              "      <td>1.080308</td>\n",
              "      <td>2.705857</td>\n",
              "      <td>0.366071</td>\n",
              "      <td>110</td>\n",
              "      <td>-84.29282</td>\n",
              "      <td>1303.978000</td>\n",
              "      <td>-28.576050</td>\n",
              "      <td>FNQH Cairns</td>\n",
              "      <td>CC-BY</td>\n",
              "    </tr>\n",
              "  </tbody>\n",
              "</table>\n",
              "<p>3 rows × 45 columns</p>\n",
              "</div>\n",
              "    <div class=\"colab-df-buttons\">\n",
              "\n",
              "  <div class=\"colab-df-container\">\n",
              "    <button class=\"colab-df-convert\" onclick=\"convertToInteractive('df-b85f2d14-674f-43e7-9c03-348dbfddc206')\"\n",
              "            title=\"Convert this dataframe to an interactive table.\"\n",
              "            style=\"display:none;\">\n",
              "\n",
              "  <svg xmlns=\"http://www.w3.org/2000/svg\" height=\"24px\" viewBox=\"0 -960 960 960\">\n",
              "    <path d=\"M120-120v-720h720v720H120Zm60-500h600v-160H180v160Zm220 220h160v-160H400v160Zm0 220h160v-160H400v160ZM180-400h160v-160H180v160Zm440 0h160v-160H620v160ZM180-180h160v-160H180v160Zm440 0h160v-160H620v160Z\"/>\n",
              "  </svg>\n",
              "    </button>\n",
              "\n",
              "  <style>\n",
              "    .colab-df-container {\n",
              "      display:flex;\n",
              "      gap: 12px;\n",
              "    }\n",
              "\n",
              "    .colab-df-convert {\n",
              "      background-color: #E8F0FE;\n",
              "      border: none;\n",
              "      border-radius: 50%;\n",
              "      cursor: pointer;\n",
              "      display: none;\n",
              "      fill: #1967D2;\n",
              "      height: 32px;\n",
              "      padding: 0 0 0 0;\n",
              "      width: 32px;\n",
              "    }\n",
              "\n",
              "    .colab-df-convert:hover {\n",
              "      background-color: #E2EBFA;\n",
              "      box-shadow: 0px 1px 2px rgba(60, 64, 67, 0.3), 0px 1px 3px 1px rgba(60, 64, 67, 0.15);\n",
              "      fill: #174EA6;\n",
              "    }\n",
              "\n",
              "    .colab-df-buttons div {\n",
              "      margin-bottom: 4px;\n",
              "    }\n",
              "\n",
              "    [theme=dark] .colab-df-convert {\n",
              "      background-color: #3B4455;\n",
              "      fill: #D2E3FC;\n",
              "    }\n",
              "\n",
              "    [theme=dark] .colab-df-convert:hover {\n",
              "      background-color: #434B5C;\n",
              "      box-shadow: 0px 1px 3px 1px rgba(0, 0, 0, 0.15);\n",
              "      filter: drop-shadow(0px 1px 2px rgba(0, 0, 0, 0.3));\n",
              "      fill: #FFFFFF;\n",
              "    }\n",
              "  </style>\n",
              "\n",
              "    <script>\n",
              "      const buttonEl =\n",
              "        document.querySelector('#df-b85f2d14-674f-43e7-9c03-348dbfddc206 button.colab-df-convert');\n",
              "      buttonEl.style.display =\n",
              "        google.colab.kernel.accessAllowed ? 'block' : 'none';\n",
              "\n",
              "      async function convertToInteractive(key) {\n",
              "        const element = document.querySelector('#df-b85f2d14-674f-43e7-9c03-348dbfddc206');\n",
              "        const dataTable =\n",
              "          await google.colab.kernel.invokeFunction('convertToInteractive',\n",
              "                                                    [key], {});\n",
              "        if (!dataTable) return;\n",
              "\n",
              "        const docLinkHtml = 'Like what you see? Visit the ' +\n",
              "          '<a target=\"_blank\" href=https://colab.research.google.com/notebooks/data_table.ipynb>data table notebook</a>'\n",
              "          + ' to learn more about interactive tables.';\n",
              "        element.innerHTML = '';\n",
              "        dataTable['output_type'] = 'display_data';\n",
              "        await google.colab.output.renderOutput(dataTable, element);\n",
              "        const docLink = document.createElement('div');\n",
              "        docLink.innerHTML = docLinkHtml;\n",
              "        element.appendChild(docLink);\n",
              "      }\n",
              "    </script>\n",
              "  </div>\n",
              "\n",
              "\n",
              "<div id=\"df-28a6da62-0977-4c60-a2c7-3c23c7f7aa23\">\n",
              "  <button class=\"colab-df-quickchart\" onclick=\"quickchart('df-28a6da62-0977-4c60-a2c7-3c23c7f7aa23')\"\n",
              "            title=\"Suggest charts\"\n",
              "            style=\"display:none;\">\n",
              "\n",
              "<svg xmlns=\"http://www.w3.org/2000/svg\" height=\"24px\"viewBox=\"0 0 24 24\"\n",
              "     width=\"24px\">\n",
              "    <g>\n",
              "        <path d=\"M19 3H5c-1.1 0-2 .9-2 2v14c0 1.1.9 2 2 2h14c1.1 0 2-.9 2-2V5c0-1.1-.9-2-2-2zM9 17H7v-7h2v7zm4 0h-2V7h2v10zm4 0h-2v-4h2v4z\"/>\n",
              "    </g>\n",
              "</svg>\n",
              "  </button>\n",
              "\n",
              "<style>\n",
              "  .colab-df-quickchart {\n",
              "      --bg-color: #E8F0FE;\n",
              "      --fill-color: #1967D2;\n",
              "      --hover-bg-color: #E2EBFA;\n",
              "      --hover-fill-color: #174EA6;\n",
              "      --disabled-fill-color: #AAA;\n",
              "      --disabled-bg-color: #DDD;\n",
              "  }\n",
              "\n",
              "  [theme=dark] .colab-df-quickchart {\n",
              "      --bg-color: #3B4455;\n",
              "      --fill-color: #D2E3FC;\n",
              "      --hover-bg-color: #434B5C;\n",
              "      --hover-fill-color: #FFFFFF;\n",
              "      --disabled-bg-color: #3B4455;\n",
              "      --disabled-fill-color: #666;\n",
              "  }\n",
              "\n",
              "  .colab-df-quickchart {\n",
              "    background-color: var(--bg-color);\n",
              "    border: none;\n",
              "    border-radius: 50%;\n",
              "    cursor: pointer;\n",
              "    display: none;\n",
              "    fill: var(--fill-color);\n",
              "    height: 32px;\n",
              "    padding: 0;\n",
              "    width: 32px;\n",
              "  }\n",
              "\n",
              "  .colab-df-quickchart:hover {\n",
              "    background-color: var(--hover-bg-color);\n",
              "    box-shadow: 0 1px 2px rgba(60, 64, 67, 0.3), 0 1px 3px 1px rgba(60, 64, 67, 0.15);\n",
              "    fill: var(--button-hover-fill-color);\n",
              "  }\n",
              "\n",
              "  .colab-df-quickchart-complete:disabled,\n",
              "  .colab-df-quickchart-complete:disabled:hover {\n",
              "    background-color: var(--disabled-bg-color);\n",
              "    fill: var(--disabled-fill-color);\n",
              "    box-shadow: none;\n",
              "  }\n",
              "\n",
              "  .colab-df-spinner {\n",
              "    border: 2px solid var(--fill-color);\n",
              "    border-color: transparent;\n",
              "    border-bottom-color: var(--fill-color);\n",
              "    animation:\n",
              "      spin 1s steps(1) infinite;\n",
              "  }\n",
              "\n",
              "  @keyframes spin {\n",
              "    0% {\n",
              "      border-color: transparent;\n",
              "      border-bottom-color: var(--fill-color);\n",
              "      border-left-color: var(--fill-color);\n",
              "    }\n",
              "    20% {\n",
              "      border-color: transparent;\n",
              "      border-left-color: var(--fill-color);\n",
              "      border-top-color: var(--fill-color);\n",
              "    }\n",
              "    30% {\n",
              "      border-color: transparent;\n",
              "      border-left-color: var(--fill-color);\n",
              "      border-top-color: var(--fill-color);\n",
              "      border-right-color: var(--fill-color);\n",
              "    }\n",
              "    40% {\n",
              "      border-color: transparent;\n",
              "      border-right-color: var(--fill-color);\n",
              "      border-top-color: var(--fill-color);\n",
              "    }\n",
              "    60% {\n",
              "      border-color: transparent;\n",
              "      border-right-color: var(--fill-color);\n",
              "    }\n",
              "    80% {\n",
              "      border-color: transparent;\n",
              "      border-right-color: var(--fill-color);\n",
              "      border-bottom-color: var(--fill-color);\n",
              "    }\n",
              "    90% {\n",
              "      border-color: transparent;\n",
              "      border-bottom-color: var(--fill-color);\n",
              "    }\n",
              "  }\n",
              "</style>\n",
              "\n",
              "  <script>\n",
              "    async function quickchart(key) {\n",
              "      const quickchartButtonEl =\n",
              "        document.querySelector('#' + key + ' button');\n",
              "      quickchartButtonEl.disabled = true;  // To prevent multiple clicks.\n",
              "      quickchartButtonEl.classList.add('colab-df-spinner');\n",
              "      try {\n",
              "        const charts = await google.colab.kernel.invokeFunction(\n",
              "            'suggestCharts', [key], {});\n",
              "      } catch (error) {\n",
              "        console.error('Error during call to suggestCharts:', error);\n",
              "      }\n",
              "      quickchartButtonEl.classList.remove('colab-df-spinner');\n",
              "      quickchartButtonEl.classList.add('colab-df-quickchart-complete');\n",
              "    }\n",
              "    (() => {\n",
              "      let quickchartButtonEl =\n",
              "        document.querySelector('#df-28a6da62-0977-4c60-a2c7-3c23c7f7aa23 button');\n",
              "      quickchartButtonEl.style.display =\n",
              "        google.colab.kernel.accessAllowed ? 'block' : 'none';\n",
              "    })();\n",
              "  </script>\n",
              "</div>\n",
              "\n",
              "  <div id=\"id_8921af30-8b68-433c-bc15-cf0c00887a57\">\n",
              "    <style>\n",
              "      .colab-df-generate {\n",
              "        background-color: #E8F0FE;\n",
              "        border: none;\n",
              "        border-radius: 50%;\n",
              "        cursor: pointer;\n",
              "        display: none;\n",
              "        fill: #1967D2;\n",
              "        height: 32px;\n",
              "        padding: 0 0 0 0;\n",
              "        width: 32px;\n",
              "      }\n",
              "\n",
              "      .colab-df-generate:hover {\n",
              "        background-color: #E2EBFA;\n",
              "        box-shadow: 0px 1px 2px rgba(60, 64, 67, 0.3), 0px 1px 3px 1px rgba(60, 64, 67, 0.15);\n",
              "        fill: #174EA6;\n",
              "      }\n",
              "\n",
              "      [theme=dark] .colab-df-generate {\n",
              "        background-color: #3B4455;\n",
              "        fill: #D2E3FC;\n",
              "      }\n",
              "\n",
              "      [theme=dark] .colab-df-generate:hover {\n",
              "        background-color: #434B5C;\n",
              "        box-shadow: 0px 1px 3px 1px rgba(0, 0, 0, 0.15);\n",
              "        filter: drop-shadow(0px 1px 2px rgba(0, 0, 0, 0.3));\n",
              "        fill: #FFFFFF;\n",
              "      }\n",
              "    </style>\n",
              "    <button class=\"colab-df-generate\" onclick=\"generateWithVariable('test_data_df')\"\n",
              "            title=\"Generate code using this dataframe.\"\n",
              "            style=\"display:none;\">\n",
              "\n",
              "  <svg xmlns=\"http://www.w3.org/2000/svg\" height=\"24px\"viewBox=\"0 0 24 24\"\n",
              "       width=\"24px\">\n",
              "    <path d=\"M7,19H8.4L18.45,9,17,7.55,7,17.6ZM5,21V16.75L18.45,3.32a2,2,0,0,1,2.83,0l1.4,1.43a1.91,1.91,0,0,1,.58,1.4,1.91,1.91,0,0,1-.58,1.4L9.25,21ZM18.45,9,17,7.55Zm-12,3A5.31,5.31,0,0,0,4.9,8.1,5.31,5.31,0,0,0,1,6.5,5.31,5.31,0,0,0,4.9,4.9,5.31,5.31,0,0,0,6.5,1,5.31,5.31,0,0,0,8.1,4.9,5.31,5.31,0,0,0,12,6.5,5.46,5.46,0,0,0,6.5,12Z\"/>\n",
              "  </svg>\n",
              "    </button>\n",
              "    <script>\n",
              "      (() => {\n",
              "      const buttonEl =\n",
              "        document.querySelector('#id_8921af30-8b68-433c-bc15-cf0c00887a57 button.colab-df-generate');\n",
              "      buttonEl.style.display =\n",
              "        google.colab.kernel.accessAllowed ? 'block' : 'none';\n",
              "\n",
              "      buttonEl.onclick = () => {\n",
              "        google.colab.notebook.generateWithVariable('test_data_df');\n",
              "      }\n",
              "      })();\n",
              "    </script>\n",
              "  </div>\n",
              "\n",
              "    </div>\n",
              "  </div>\n"
            ],
            "application/vnd.google.colaboratory.intrinsic+json": {
              "type": "dataframe",
              "variable_name": "test_data_df"
            }
          },
          "metadata": {},
          "execution_count": 12
        }
      ]
    },
    {
      "cell_type": "code",
      "source": [
        "train_df_unique_cols = set(metadata_df.columns) - set(test_data_df.columns)\n",
        "print(\"Columns in train_df but not in test_df:\", train_df_unique_cols)\n",
        "\n",
        "# Columns in test_df but not in train_df\n",
        "test_df_unique_cols = set(test_data_df.columns) - set(metadata_df.columns)\n",
        "print(\"Columns in test_df but not in train_df:\", test_df_unique_cols)"
      ],
      "metadata": {
        "id": "uGdFkk9xoCpJ",
        "outputId": "300eba25-3804-4b3f-dbdf-668a3d40d99d",
        "colab": {
          "base_uri": "https://localhost:8080/"
        }
      },
      "execution_count": 13,
      "outputs": [
        {
          "output_type": "stream",
          "name": "stdout",
          "text": [
            "Columns in train_df but not in test_df: {'mel_thick_mm', 'iddx_5', 'iddx_4', 'mel_mitotic_index', 'lesion_id', 'iddx_3', 'iddx_full', 'iddx_1', 'tbp_lv_dnn_lesion_confidence', 'iddx_2'}\n",
            "Columns in test_df but not in train_df: set()\n"
          ]
        }
      ]
    },
    {
      "cell_type": "code",
      "source": [
        "train_df, test_df = train_test_split(metadata_df, test_size=0.2, random_state=42)\n",
        "\n",
        "Y_test = test_df['target']\n"
      ],
      "metadata": {
        "id": "6-fn9tkQrmok"
      },
      "execution_count": 14,
      "outputs": []
    },
    {
      "cell_type": "code",
      "execution_count": 15,
      "metadata": {
        "id": "dZ0DEn0kuW_x"
      },
      "outputs": [],
      "source": [
        "Y = train_df[\"target\"]\n",
        "\n",
        "dropped_columns = [\"patient_id\", \"lesion_id\", \"iddx_full\", \"iddx_1\", \"iddx_2\", \"iddx_3\", \"iddx_4\", \"iddx_5\", \"mel_mitotic_index\", \"mel_thick_mm\", \"tbp_lv_dnn_lesion_confidence\"]\n",
        "X = train_df.drop(columns=dropped_columns)\n",
        "\n",
        "# Replace NaN values\n",
        "X['sex'] = X['sex'].replace(pd.NA, 'unknown')\n",
        "X['anatom_site_general'] = X['anatom_site_general'].replace(pd.NA, 'unknown')\n",
        "\n",
        "X.fillna(0, inplace=True)"
      ]
    },
    {
      "cell_type": "code",
      "source": [
        "# Identify columns with mixed types\n",
        "\n",
        "for column in X.columns:\n",
        "  if X[column].apply(type).nunique() > 1:\n",
        "    print(f\"{column}: {X[column].apply(type).unique()}\")\n"
      ],
      "metadata": {
        "id": "HhfivrHPsJZd"
      },
      "execution_count": 16,
      "outputs": []
    },
    {
      "cell_type": "code",
      "execution_count": null,
      "metadata": {
        "id": "k8NoU236vXyZ"
      },
      "outputs": [],
      "source": [
        "from tensorflow.keras.models import Sequential\n",
        "from tensorflow.keras.layers import Dense\n",
        "\n",
        "# Identify categorical features\n",
        "categorical_columns = X.select_dtypes(include=['object']).columns\n",
        "numerical_columns = X.select_dtypes(include=['number']).columns\n",
        "\n",
        "# Create a ColumnTransformer with OneHotEncoder\n",
        "preprocessor = ColumnTransformer(\n",
        "    transformers=[\n",
        "        ('cat', OneHotEncoder(handle_unknown='ignore', sparse_output=False), categorical_columns),  # One-hot encode categorical columns\n",
        "        ('num', StandardScaler(), numerical_columns)  # Scale numerical columns\n",
        "    ],\n",
        "    remainder='passthrough'\n",
        ")\n",
        "\n",
        "X_train_encoded = preprocessor.fit_transform(X)\n",
        "\n",
        "\n",
        "# Assuming you've already preprocessed your categorical variables\n",
        "model = Sequential([\n",
        "    Dense(64, input_shape=(X_train_encoded.shape[1],), activation='relu'),\n",
        "    Dense(32, activation='relu'),\n",
        "    Dense(1, activation='sigmoid')\n",
        "])\n",
        "\n",
        "model.compile(optimizer='adam', loss='binary_crossentropy', metrics=['accuracy'])\n",
        "class_weight = {0: 1, 1: 100}  # Adjust the weight ratio to balance the classes\n",
        "\n",
        "model.fit(X_train_encoded, Y, epochs=2, batch_size=32)\n",
        "\n"
      ]
    },
    {
      "cell_type": "code",
      "execution_count": null,
      "metadata": {
        "id": "IkW3Ebux5_Rw"
      },
      "outputs": [],
      "source": [
        "# test_df['sex'] = test_df['sex'].replace(pd.NA, 'unknown')\n",
        "# test_df['anatom_site_general'] = test_df['anatom_site_general'].replace(pd.NA, 'unknown')\n",
        "# test_df['lesion_id'] = test_df['lesion_id'].replace(pd.NA, 'unknown')\n",
        "# test_df['iddx_2'] = test_df['iddx_2'].replace(pd.NA, 'unknown')\n",
        "# test_df['iddx_3'] = test_df['iddx_3'].replace(pd.NA, 'unknown')\n",
        "# test_df['iddx_4'] = test_df['iddx_4'].replace(pd.NA, 'unknown')\n",
        "# test_df['mel_mitotic_index'] = test_df['mel_mitotic_index'].replace(pd.NA, 'unknown')\n",
        "\n",
        "# test_df.fillna(0, inplace=True)\n",
        "# # Identify columns with mixed types\n",
        "# for column in test_df.columns:\n",
        "#   if test_df[column].apply(type).nunique() > 1:\n",
        "#     print(f\"{column}: {test_df[column].unique()}\")\n",
        "\n",
        "\n",
        "test_isic_ids = test_df['isic_id']\n",
        "test_df = test_df.drop(columns=dropped_columns)\n",
        "test_df.head()"
      ]
    },
    {
      "cell_type": "code",
      "execution_count": null,
      "metadata": {
        "id": "a7pD-nf70XVo"
      },
      "outputs": [],
      "source": [
        "# Make predictions on the test data\n",
        "X_test_encoded = preprocessor.fit_transform(test_df)\n",
        "y_pred_proba = model.predict(X_test_encoded)  # Probability of positive class (e.g., malignant)\n",
        "\n",
        "# Create a DataFrame to map predictions back to 'isic_id'\n",
        "predictions_df = pd.DataFrame({\n",
        "    'isic_id': test_isic_ids,\n",
        "    'target': y_pred_proba.flatten()\n",
        "})\n",
        "\n",
        "\n",
        "predictions_df\n"
      ]
    },
    {
      "cell_type": "code",
      "source": [
        "y_pred_proba = np.nan_to_num(y_pred_proba, nan=0)\n"
      ],
      "metadata": {
        "id": "sA1OOWp04Jrb"
      },
      "execution_count": null,
      "outputs": []
    },
    {
      "cell_type": "code",
      "source": [
        "y_pred_proba.max()"
      ],
      "metadata": {
        "id": "M-uZpL3k4dmd"
      },
      "execution_count": null,
      "outputs": []
    },
    {
      "cell_type": "code",
      "source": [
        "Y_test"
      ],
      "metadata": {
        "id": "NeteXuF43Yuz"
      },
      "execution_count": null,
      "outputs": []
    },
    {
      "cell_type": "code",
      "execution_count": null,
      "metadata": {
        "id": "2ek7iPwFtTPh"
      },
      "outputs": [],
      "source": [
        "import numpy as np\n",
        "from sklearn.metrics import roc_curve, auc\n",
        "\n",
        "\n",
        "# Compute the ROC curve\n",
        "fpr, tpr, thresholds = roc_curve(Y_test, y_pred_proba)\n",
        "\n",
        "# Specify the range of TPR you are interested in (e.g., above 80%)\n",
        "# Filter the points where TPR is above 0.8\n",
        "tpr_threshold = 0.8\n",
        "valid_range = tpr >= tpr_threshold\n",
        "\n",
        "# Compute pAUC within the valid range\n",
        "partial_auc = auc(fpr[valid_range], tpr[valid_range])\n",
        "\n",
        "print(f\"Partial AUC for TPR > 80%: {partial_auc:.2f}\")\n"
      ]
    },
    {
      "cell_type": "code",
      "source": [
        "import pickle\n",
        "from sklearn.pipeline import Pipeline\n",
        "from sklearn.compose import ColumnTransformer\n",
        "from sklearn.preprocessing import StandardScaler, OneHotEncoder\n",
        "from sklearn.linear_model import LogisticRegression\n",
        "\n",
        "# Assume you have trained your pipeline as described before\n",
        "\n",
        "# Save the entire pipeline to a pickle file\n",
        "with open('/content/drive/MyDrive/kaggle/isic-2024-data/sequential_dnn.pkl', 'wb') as file:\n",
        "    pickle.dump(model, file)\n",
        "\n",
        "print(\"Model pipeline saved successfully!\")\n"
      ],
      "metadata": {
        "id": "-huzE-lNF-iZ"
      },
      "execution_count": null,
      "outputs": []
    }
  ],
  "metadata": {
    "colab": {
      "provenance": [],
      "authorship_tag": "ABX9TyPytWR2UILMjFdO4izwki2e",
      "include_colab_link": true
    },
    "kernelspec": {
      "display_name": "Python 3",
      "name": "python3"
    },
    "language_info": {
      "name": "python"
    }
  },
  "nbformat": 4,
  "nbformat_minor": 0
}