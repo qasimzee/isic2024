{
  "cells": [
    {
      "cell_type": "markdown",
      "metadata": {
        "id": "view-in-github",
        "colab_type": "text"
      },
      "source": [
        "<a href=\"https://colab.research.google.com/github/qasimzee/isic2024/blob/main/isic_2024_challenge_table_voting_class.ipynb\" target=\"_parent\"><img src=\"https://colab.research.google.com/assets/colab-badge.svg\" alt=\"Open In Colab\"/></a>"
      ]
    },
    {
      "cell_type": "code",
      "execution_count": 23,
      "metadata": {
        "colab": {
          "base_uri": "https://localhost:8080/"
        },
        "id": "boIzrzVzi15i",
        "outputId": "699eff44-7111-431b-bf3d-77bf1aed123f"
      },
      "outputs": [
        {
          "output_type": "stream",
          "name": "stdout",
          "text": [
            "Requirement already satisfied: scikit-learn==1.2.2 in /usr/local/lib/python3.10/dist-packages (1.2.2)\n",
            "Requirement already satisfied: numpy>=1.17.3 in /usr/local/lib/python3.10/dist-packages (from scikit-learn==1.2.2) (1.26.4)\n",
            "Requirement already satisfied: scipy>=1.3.2 in /usr/local/lib/python3.10/dist-packages (from scikit-learn==1.2.2) (1.13.1)\n",
            "Requirement already satisfied: joblib>=1.1.1 in /usr/local/lib/python3.10/dist-packages (from scikit-learn==1.2.2) (1.4.2)\n",
            "Requirement already satisfied: threadpoolctl>=2.0.0 in /usr/local/lib/python3.10/dist-packages (from scikit-learn==1.2.2) (3.5.0)\n",
            "Requirement already satisfied: numpy==1.26.4 in /usr/local/lib/python3.10/dist-packages (1.26.4)\n"
          ]
        }
      ],
      "source": [
        "!pip install scikit-learn==1.2.2\n",
        "!pip install numpy==1.26.4\n",
        "\n",
        "import pandas as pd\n",
        "import numpy as np\n",
        "from sklearn.model_selection import train_test_split\n",
        "from sklearn.preprocessing import StandardScaler, OneHotEncoder\n",
        "from sklearn.compose import ColumnTransformer\n",
        "from sklearn.pipeline import Pipeline\n",
        "from sklearn.linear_model import LogisticRegression\n",
        "from sklearn.ensemble import VotingClassifier\n",
        "from sklearn.neighbors import KNeighborsClassifier\n",
        "from sklearn.ensemble import RandomForestClassifier\n",
        "from sklearn.svm import SVC\n",
        "import xgboost as xgb\n"
      ]
    },
    {
      "cell_type": "code",
      "execution_count": 24,
      "metadata": {
        "colab": {
          "base_uri": "https://localhost:8080/"
        },
        "id": "KMzRH1cApP19",
        "outputId": "0926b7c4-75c3-4a6f-96a3-3aa3c9c505fd"
      },
      "outputs": [
        {
          "output_type": "stream",
          "name": "stdout",
          "text": [
            "Drive already mounted at /content/drive; to attempt to forcibly remount, call drive.mount(\"/content/drive\", force_remount=True).\n"
          ]
        }
      ],
      "source": [
        "from google.colab import drive\n",
        "drive.mount('/content/drive')"
      ]
    },
    {
      "cell_type": "code",
      "execution_count": 25,
      "metadata": {
        "colab": {
          "base_uri": "https://localhost:8080/"
        },
        "id": "txNWgMfBtyE1",
        "outputId": "e7f715e1-68b3-4302-eb46-cecea175e430"
      },
      "outputs": [
        {
          "output_type": "stream",
          "name": "stdout",
          "text": [
            "cnn.pkl\t\t\t sample_submission.csv\ttest-metadata.csv\t  train-metadata.csv\n",
            "logistic_regression.pkl  scaler.pkl\t\ttest-metadata.csv.gsheet  train-metadata-v1.csv\n",
            "random_forest_model.pkl  test-image.hdf5\ttrain-image.hdf5\n"
          ]
        }
      ],
      "source": [
        "!ls \"/content/drive/MyDrive/kaggle/isic-2024-data\""
      ]
    },
    {
      "cell_type": "code",
      "execution_count": 26,
      "metadata": {
        "colab": {
          "base_uri": "https://localhost:8080/"
        },
        "id": "fHYT-spxqIcd",
        "outputId": "320c8bdb-3098-4d56-9c39-0dc68a00091a"
      },
      "outputs": [
        {
          "output_type": "stream",
          "name": "stderr",
          "text": [
            "<ipython-input-26-6d834c4c6865>:2: DtypeWarning: Columns (51,52) have mixed types. Specify dtype option on import or set low_memory=False.\n",
            "  metadata_df = pd.read_csv(METADATA_FILE)\n"
          ]
        }
      ],
      "source": [
        "METADATA_FILE = \"/content/drive/MyDrive/kaggle/isic-2024-data/train-metadata.csv\"\n",
        "metadata_df = pd.read_csv(METADATA_FILE)\n"
      ]
    },
    {
      "cell_type": "code",
      "source": [
        "train_df, test_df = train_test_split(metadata_df, test_size=0.2, random_state=42)\n",
        "\n",
        "Y_test = test_df['target']\n"
      ],
      "metadata": {
        "id": "6-fn9tkQrmok"
      },
      "execution_count": 27,
      "outputs": []
    },
    {
      "cell_type": "code",
      "execution_count": 28,
      "metadata": {
        "id": "dZ0DEn0kuW_x"
      },
      "outputs": [],
      "source": [
        "Y = train_df[\"target\"]\n",
        "\n",
        "dropped_columns = [\"isic_id\", \"target\", \"patient_id\", \"lesion_id\", \"iddx_full\", \"iddx_1\", \"iddx_2\", \"iddx_3\", \"iddx_4\", \"iddx_5\", \"mel_mitotic_index\", \"mel_thick_mm\", \"tbp_lv_dnn_lesion_confidence\"]\n",
        "X = train_df.drop(columns=dropped_columns)\n",
        "\n",
        "# Replace NaN values\n",
        "X['sex'] = X['sex'].replace(pd.NA, 'unknown')\n",
        "X['anatom_site_general'] = X['anatom_site_general'].replace(pd.NA, 'unknown')\n",
        "\n",
        "X.fillna(0, inplace=True)"
      ]
    },
    {
      "cell_type": "code",
      "source": [
        "# Identify columns with mixed types\n",
        "\n",
        "for column in X.columns:\n",
        "  if X[column].apply(type).nunique() > 1:\n",
        "    print(f\"{column}: {X[column].apply(type).unique()}\")\n"
      ],
      "metadata": {
        "id": "HhfivrHPsJZd"
      },
      "execution_count": 29,
      "outputs": []
    },
    {
      "cell_type": "code",
      "execution_count": null,
      "metadata": {
        "colab": {
          "base_uri": "https://localhost:8080/"
        },
        "id": "k8NoU236vXyZ",
        "outputId": "9483dcda-aa86-40cc-83d2-39bb01be468f"
      },
      "outputs": [
        {
          "output_type": "stream",
          "name": "stderr",
          "text": [
            "/usr/local/lib/python3.10/dist-packages/keras/src/layers/core/dense.py:87: UserWarning: Do not pass an `input_shape`/`input_dim` argument to a layer. When using Sequential models, prefer using an `Input(shape)` object as the first layer in the model instead.\n",
            "  super().__init__(activity_regularizer=activity_regularizer, **kwargs)\n"
          ]
        },
        {
          "output_type": "stream",
          "name": "stdout",
          "text": [
            "Epoch 1/20\n",
            "\u001b[1m10027/10027\u001b[0m \u001b[32m━━━━━━━━━━━━━━━━━━━━\u001b[0m\u001b[37m\u001b[0m \u001b[1m32s\u001b[0m 3ms/step - accuracy: 0.9941 - loss: 0.0182\n",
            "Epoch 2/20\n",
            "\u001b[1m10027/10027\u001b[0m \u001b[32m━━━━━━━━━━━━━━━━━━━━\u001b[0m\u001b[37m\u001b[0m \u001b[1m38s\u001b[0m 3ms/step - accuracy: 0.9991 - loss: 0.0059\n",
            "Epoch 3/20\n",
            "\u001b[1m10027/10027\u001b[0m \u001b[32m━━━━━━━━━━━━━━━━━━━━\u001b[0m\u001b[37m\u001b[0m \u001b[1m54s\u001b[0m 4ms/step - accuracy: 0.9991 - loss: 0.0051\n",
            "Epoch 4/20\n",
            "\u001b[1m10027/10027\u001b[0m \u001b[32m━━━━━━━━━━━━━━━━━━━━\u001b[0m\u001b[37m\u001b[0m \u001b[1m27s\u001b[0m 3ms/step - accuracy: 0.9991 - loss: 0.0053\n",
            "Epoch 5/20\n",
            "\u001b[1m10027/10027\u001b[0m \u001b[32m━━━━━━━━━━━━━━━━━━━━\u001b[0m\u001b[37m\u001b[0m \u001b[1m28s\u001b[0m 3ms/step - accuracy: 0.9990 - loss: 0.0055\n",
            "Epoch 6/20\n",
            "\u001b[1m 1975/10027\u001b[0m \u001b[32m━━━\u001b[0m\u001b[37m━━━━━━━━━━━━━━━━━\u001b[0m \u001b[1m19s\u001b[0m 2ms/step - accuracy: 0.9989 - loss: 0.0054"
          ]
        }
      ],
      "source": [
        "from tensorflow.keras.models import Sequential\n",
        "from tensorflow.keras.layers import Dense\n",
        "\n",
        "# Identify categorical features\n",
        "categorical_columns = X.select_dtypes(include=['object']).columns\n",
        "numerical_columns = X.select_dtypes(include=['number']).columns\n",
        "\n",
        "# Create a ColumnTransformer with OneHotEncoder\n",
        "preprocessor = ColumnTransformer(\n",
        "    transformers=[\n",
        "        ('cat', OneHotEncoder(handle_unknown='ignore', drop='first'), categorical_columns),  # One-hot encode categorical columns\n",
        "        ('num', StandardScaler(), numerical_columns)  # Scale numerical columns\n",
        "    ]\n",
        ")\n",
        "\n",
        "X_train_encoded = preprocessor.fit_transform(X)\n",
        "\n",
        "\n",
        "# Assuming you've already preprocessed your categorical variables\n",
        "model = Sequential([\n",
        "    Dense(64, input_shape=(X_train_encoded.shape[1],), activation='relu'),\n",
        "    Dense(32, activation='relu'),\n",
        "    Dense(1, activation='sigmoid')\n",
        "])\n",
        "\n",
        "model.compile(optimizer='adam', loss='binary_crossentropy', metrics=['accuracy'])\n",
        "class_weight = {0: 1, 1: 100}  # Adjust the weight ratio to balance the classes\n",
        "\n",
        "model.fit(X_train_encoded, Y, epochs=20, batch_size=32)\n",
        "\n"
      ]
    },
    {
      "cell_type": "code",
      "execution_count": null,
      "metadata": {
        "id": "IkW3Ebux5_Rw"
      },
      "outputs": [],
      "source": [
        "# test_df['sex'] = test_df['sex'].replace(pd.NA, 'unknown')\n",
        "# test_df['anatom_site_general'] = test_df['anatom_site_general'].replace(pd.NA, 'unknown')\n",
        "# test_df['lesion_id'] = test_df['lesion_id'].replace(pd.NA, 'unknown')\n",
        "# test_df['iddx_2'] = test_df['iddx_2'].replace(pd.NA, 'unknown')\n",
        "# test_df['iddx_3'] = test_df['iddx_3'].replace(pd.NA, 'unknown')\n",
        "# test_df['iddx_4'] = test_df['iddx_4'].replace(pd.NA, 'unknown')\n",
        "# test_df['mel_mitotic_index'] = test_df['mel_mitotic_index'].replace(pd.NA, 'unknown')\n",
        "\n",
        "# test_df.fillna(0, inplace=True)\n",
        "# # Identify columns with mixed types\n",
        "# for column in test_df.columns:\n",
        "#   if test_df[column].apply(type).nunique() > 1:\n",
        "#     print(f\"{column}: {test_df[column].unique()}\")\n",
        "\n",
        "\n",
        "test_isic_ids = test_df['isic_id']\n",
        "test_df = test_df.drop(columns=dropped_columns)\n",
        "test_df.head()"
      ]
    },
    {
      "cell_type": "code",
      "execution_count": null,
      "metadata": {
        "id": "a7pD-nf70XVo"
      },
      "outputs": [],
      "source": [
        "# Make predictions on the test data\n",
        "X_test_encoded = preprocessor.fit_transform(test_df)\n",
        "y_pred_proba = model.predict(X_test_encoded)  # Probability of positive class (e.g., malignant)\n",
        "\n",
        "# Create a DataFrame to map predictions back to 'isic_id'\n",
        "predictions_df = pd.DataFrame({\n",
        "    'isic_id': test_isic_ids,\n",
        "    'target': y_pred_proba.flatten()\n",
        "})\n",
        "\n",
        "\n",
        "predictions_df\n"
      ]
    },
    {
      "cell_type": "code",
      "source": [
        "y_pred_proba = np.nan_to_num(y_pred_proba, nan=0)\n"
      ],
      "metadata": {
        "id": "sA1OOWp04Jrb"
      },
      "execution_count": 33,
      "outputs": []
    },
    {
      "cell_type": "code",
      "source": [
        "y_pred_proba.max()"
      ],
      "metadata": {
        "id": "M-uZpL3k4dmd",
        "outputId": "e8e4c4de-3a65-475c-dbca-d9fe5554251f",
        "colab": {
          "base_uri": "https://localhost:8080/"
        }
      },
      "execution_count": 34,
      "outputs": [
        {
          "data": {
            "text/plain": [
              "0.9221462"
            ]
          },
          "execution_count": 34,
          "metadata": {},
          "output_type": "execute_result"
        }
      ]
    },
    {
      "cell_type": "code",
      "source": [
        "Y_test"
      ],
      "metadata": {
        "id": "NeteXuF43Yuz",
        "outputId": "b919c64c-3f30-4815-ed03-137660fa0bb3",
        "colab": {
          "base_uri": "https://localhost:8080/",
          "height": 458
        }
      },
      "execution_count": 35,
      "outputs": [
        {
          "data": {
            "text/html": [
              "<div>\n",
              "<style scoped>\n",
              "    .dataframe tbody tr th:only-of-type {\n",
              "        vertical-align: middle;\n",
              "    }\n",
              "\n",
              "    .dataframe tbody tr th {\n",
              "        vertical-align: top;\n",
              "    }\n",
              "\n",
              "    .dataframe thead th {\n",
              "        text-align: right;\n",
              "    }\n",
              "</style>\n",
              "<table border=\"1\" class=\"dataframe\">\n",
              "  <thead>\n",
              "    <tr style=\"text-align: right;\">\n",
              "      <th></th>\n",
              "      <th>target</th>\n",
              "    </tr>\n",
              "  </thead>\n",
              "  <tbody>\n",
              "    <tr>\n",
              "      <th>278442</th>\n",
              "      <td>0</td>\n",
              "    </tr>\n",
              "    <tr>\n",
              "      <th>215021</th>\n",
              "      <td>0</td>\n",
              "    </tr>\n",
              "    <tr>\n",
              "      <th>209685</th>\n",
              "      <td>0</td>\n",
              "    </tr>\n",
              "    <tr>\n",
              "      <th>29648</th>\n",
              "      <td>0</td>\n",
              "    </tr>\n",
              "    <tr>\n",
              "      <th>323386</th>\n",
              "      <td>0</td>\n",
              "    </tr>\n",
              "    <tr>\n",
              "      <th>...</th>\n",
              "      <td>...</td>\n",
              "    </tr>\n",
              "    <tr>\n",
              "      <th>2741</th>\n",
              "      <td>0</td>\n",
              "    </tr>\n",
              "    <tr>\n",
              "      <th>239797</th>\n",
              "      <td>0</td>\n",
              "    </tr>\n",
              "    <tr>\n",
              "      <th>243397</th>\n",
              "      <td>0</td>\n",
              "    </tr>\n",
              "    <tr>\n",
              "      <th>86684</th>\n",
              "      <td>0</td>\n",
              "    </tr>\n",
              "    <tr>\n",
              "      <th>262727</th>\n",
              "      <td>0</td>\n",
              "    </tr>\n",
              "  </tbody>\n",
              "</table>\n",
              "<p>80212 rows × 1 columns</p>\n",
              "</div><br><label><b>dtype:</b> int64</label>"
            ],
            "text/plain": [
              "278442    0\n",
              "215021    0\n",
              "209685    0\n",
              "29648     0\n",
              "323386    0\n",
              "         ..\n",
              "2741      0\n",
              "239797    0\n",
              "243397    0\n",
              "86684     0\n",
              "262727    0\n",
              "Name: target, Length: 80212, dtype: int64"
            ]
          },
          "execution_count": 35,
          "metadata": {},
          "output_type": "execute_result"
        }
      ]
    },
    {
      "cell_type": "code",
      "execution_count": null,
      "metadata": {
        "id": "2ek7iPwFtTPh"
      },
      "outputs": [],
      "source": [
        "import numpy as np\n",
        "from sklearn.metrics import roc_curve, auc\n",
        "\n",
        "\n",
        "# Compute the ROC curve\n",
        "fpr, tpr, thresholds = roc_curve(Y_test, y_pred_proba)\n",
        "\n",
        "# Specify the range of TPR you are interested in (e.g., above 80%)\n",
        "# Filter the points where TPR is above 0.8\n",
        "tpr_threshold = 0.8\n",
        "valid_range = tpr >= tpr_threshold\n",
        "\n",
        "# Compute pAUC within the valid range\n",
        "partial_auc = auc(fpr[valid_range], tpr[valid_range])\n",
        "\n",
        "print(f\"Partial AUC for TPR > 80%: {partial_auc:.2f}\")\n"
      ]
    },
    {
      "cell_type": "code",
      "source": [
        "import pickle\n",
        "from sklearn.pipeline import Pipeline\n",
        "from sklearn.compose import ColumnTransformer\n",
        "from sklearn.preprocessing import StandardScaler, OneHotEncoder\n",
        "from sklearn.linear_model import LogisticRegression\n",
        "\n",
        "# Assume you have trained your pipeline as described before\n",
        "\n",
        "# Save the entire pipeline to a pickle file\n",
        "with open('/content/drive/MyDrive/kaggle/isic-2024-data/sequential_dnn.pkl', 'wb') as file:\n",
        "    pickle.dump(model, file)\n",
        "\n",
        "print(\"Model pipeline saved successfully!\")\n"
      ],
      "metadata": {
        "id": "-huzE-lNF-iZ",
        "outputId": "2621e31c-75b9-4b4c-b398-09f7ce4d180a",
        "colab": {
          "base_uri": "https://localhost:8080/"
        }
      },
      "execution_count": 37,
      "outputs": [
        {
          "metadata": {
            "tags": null
          },
          "name": "stdout",
          "output_type": "stream",
          "text": [
            "Model pipeline saved successfully!\n"
          ]
        }
      ]
    }
  ],
  "metadata": {
    "colab": {
      "provenance": [],
      "authorship_tag": "ABX9TyPQXvovhV9XWQ3VbXsyb0Yo",
      "include_colab_link": true
    },
    "kernelspec": {
      "display_name": "Python 3",
      "name": "python3"
    },
    "language_info": {
      "name": "python"
    }
  },
  "nbformat": 4,
  "nbformat_minor": 0
}